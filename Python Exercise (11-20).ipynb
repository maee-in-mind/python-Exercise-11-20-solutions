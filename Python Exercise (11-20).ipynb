{
 "cells": [
  {
   "cell_type": "code",
   "execution_count": 18,
   "metadata": {},
   "outputs": [
    {
     "name": "stdout",
     "output_type": "stream",
     "text": [
      "enter a number4\n",
      "4 is not prime\n"
     ]
    }
   ],
   "source": [
    "#Exercise 11 \n",
    "#Ask the user for a number and determine whether the number\n",
    "#is prime or not.\n",
    "\n",
    "def isprime(num=\"enter a number > 1\"):\n",
    "    #num=int(input(\"enter a number\"))\n",
    "    for i in range(2,num):\n",
    "        if num%i==0:\n",
    "            print(\"{} is not prime\".format(num))\n",
    "            break\n",
    "    else:\n",
    "        print(\"{} is prime\".format(num))\n",
    "num1=int(input(\"enter a number\"))\n",
    "isprime(num1)"
   ]
  },
  {
   "cell_type": "code",
   "execution_count": 22,
   "metadata": {},
   "outputs": [
    {
     "name": "stdout",
     "output_type": "stream",
     "text": [
      "[5, 25]\n"
     ]
    }
   ],
   "source": [
    "#Write a program that takes a list of numbers \n",
    "#(for example, a = [5, 10, 15, 20, 25]) and\n",
    "#makes a new list of only the first and last \n",
    "#elements of the given list. For practice, write\n",
    "#this code inside a function.\n",
    "a = [5, 10, 15, 20, 25]\n",
    "b=[]\n",
    "def first_last_element():\n",
    "    b.append(a[0])\n",
    "    b.append(a[-1])\n",
    "    return b\n",
    "print(first_last_element())"
   ]
  },
  {
   "cell_type": "code",
   "execution_count": 40,
   "metadata": {},
   "outputs": [
    {
     "name": "stdout",
     "output_type": "stream",
     "text": [
      "How many Fibonacci sequence you want?6\n",
      "[0, 1, 1, 2, 3, 5]\n"
     ]
    }
   ],
   "source": [
    "#Exercise 13\n",
    "#WriteWrite a program that asks the user \n",
    "#how many Fibonnaci numbers to generate\n",
    "#and then generates them.\n",
    "a=[]\n",
    "def fib(num):\n",
    "    if num==0:\n",
    "        return(0)\n",
    "    if num==1:\n",
    "        return(1)\n",
    "    else:\n",
    "        \n",
    "        f,s=0,1\n",
    "        a.append(f)\n",
    "        a.append(s)\n",
    "        for i in range(num-2):\n",
    "            n=f+s\n",
    "            a.append(n)\n",
    "            f=s\n",
    "            s=n\n",
    "    return a\n",
    "uch=int(input(\"How many Fibonacci sequence you want?\"))\n",
    "        \n",
    "print(fib(uch))     "
   ]
  },
  {
   "cell_type": "code",
   "execution_count": 44,
   "metadata": {},
   "outputs": [
    {
     "name": "stdout",
     "output_type": "stream",
     "text": [
      "{0, 1, 2, 3, 5}\n",
      "[0, 1, 2, 3, 5]\n"
     ]
    }
   ],
   "source": [
    "#Exercise 14\n",
    "#Write a program (function!) that takes a list and\n",
    "#returns a new list that contains all the elements \n",
    "#of the first list minus all the duplicates.\n",
    "#Write two different functions to do this - \n",
    "#one using a loop and constructing a list, and another using sets.\n",
    "\n",
    "a=[0, 1, 1, 2, 2, 3, 3, 5]\n",
    "def unique_with_set():\n",
    "    b=set(a)\n",
    "    return b\n",
    "print(unique_with_set())\n",
    "\n",
    "def unique_without_set():\n",
    "    nr=[]\n",
    "    for i in a:\n",
    "        if i not in nr:\n",
    "            nr.append(i)\n",
    "    return nr\n",
    "print(unique_without_set())\n",
    "\n"
   ]
  },
  {
   "cell_type": "code",
   "execution_count": 63,
   "metadata": {},
   "outputs": [
    {
     "name": "stdout",
     "output_type": "stream",
     "text": [
      "Michele is name My\n"
     ]
    }
   ],
   "source": [
    "#Exercise 15 \n",
    "#Write a program (using functions!) that asks the use\n",
    "#r for a long string containing multiple words.\n",
    "#Print back to the user the same string, except with \n",
    "#the words in backwards order. \n",
    "str1=\"My name is Michele\"\n",
    "def string_reverse(str1):\n",
    "    str2=str1.split()\n",
    "    str2.reverse()\n",
    "    str3=\" \".join(str2)\n",
    "    return str3\n",
    "print(string_reverse(str1))"
   ]
  },
  {
   "cell_type": "code",
   "execution_count": 72,
   "metadata": {},
   "outputs": [
    {
     "name": "stdout",
     "output_type": "stream",
     "text": [
      "K`^O)c(VBn\n"
     ]
    }
   ],
   "source": [
    "#Exercise 16 \n",
    "#Write a password generator in Python. Be creative with how you generate passwords \n",
    "#- strong passwords have a mix of lowercase letters, uppercase letters, numbers, and \n",
    "#symbols. The passwords should be random,\n",
    "\n",
    "import string\n",
    "from random import *\n",
    "characters = string.ascii_letters + string.punctuation  + string.digits\n",
    "password =  \"\".join(x(characters)for x in range(randint(8, 16)))\n",
    "print(password)"
   ]
  },
  {
   "cell_type": "code",
   "execution_count": 12,
   "metadata": {},
   "outputs": [
    {
     "name": "stdout",
     "output_type": "stream",
     "text": [
      "This is a link\n",
      "Continue reading the main story\n",
      "This is a link\n",
      "Skip to content\n",
      "This is a link\n",
      "Skip to site index\n",
      "This is a link\n",
      "\n",
      "This is a link\n",
      "English\n",
      "This is a link\n",
      "Español\n",
      "This is a link\n",
      "中文\n",
      "This is a link\n",
      "Log In\n",
      "This is a link\n",
      "Log In\n",
      "This is a link\n",
      "Today’s Paper\n"
     ]
    }
   ],
   "source": [
    "#Exercise 17\n",
    "import requests\n",
    "from bs4 import BeautifulSoup\n",
    "response = requests.get('http://www.nytimes.com')\n",
    "doc = BeautifulSoup(response.text, 'html.parser')\n",
    "story = doc.find_all('article', { 'class': 'story' })\n",
    "#print(story)\n",
    "'''for story in story[:10]:\n",
    "    print(\"This is a story\")\n",
    "    headline = story.find('h2', { 'class': 'story-heading' })\n",
    "    print(headline.text)'''\n",
    "    \n",
    "links = doc.find_all('a')\n",
    "\n",
    "for link in links[:10]:\n",
    "    print(\"This is a link\")\n",
    "    print(link.text)"
   ]
  },
  {
   "cell_type": "code",
   "execution_count": 14,
   "metadata": {},
   "outputs": [],
   "source": [
    "import requests\n",
    "from bs4 import BeautifulSoup\n",
    " \n",
    "base_url = 'http://www.nytimes.com'\n",
    "r = requests.get(base_url)\n",
    "soup = BeautifulSoup(r.text)\n",
    " \n",
    "for story_heading in soup.find_all(class_=\"story-heading\"): \n",
    "    if story_heading.a: \n",
    "        print(story_heading.a.text.replace(\"\\n\", \" \").strip())\n",
    "    else: \n",
    "        print(story_heading.contents[0].strip())"
   ]
  },
  {
   "cell_type": "code",
   "execution_count": 19,
   "metadata": {},
   "outputs": [
    {
     "name": "stdout",
     "output_type": "stream",
     "text": [
      "5508\n",
      "Guess a number5588\n",
      "(3, 1)\n"
     ]
    }
   ],
   "source": [
    "#Exercise 18 \n",
    "#Create a program that will play the “cows and bulls” \n",
    "#game with the user.\n",
    "import random\n",
    "\n",
    "def compare_numbers(number, user_guess):\n",
    "    cow=0\n",
    "    bull = 0\n",
    "    for i in range(len(number)):\n",
    "        if number[i] == user_guess[i]:\n",
    "            cow+=1\n",
    "        else:\n",
    "            bull+=1\n",
    "    return cow,bull\n",
    "number = str(random.randint(0,9999))\n",
    "print(number)\n",
    "user_guess = input(\"Guess a number\")\n",
    "print(compare_numbers(number,user_guess))"
   ]
  },
  {
   "cell_type": "code",
   "execution_count": 4,
   "metadata": {},
   "outputs": [
    {
     "name": "stdout",
     "output_type": "stream",
     "text": [
      "enter number of elements in list6\n",
      "2\n",
      "3\n",
      "5\n",
      "6\n",
      "10\n",
      "12\n",
      "Enter number to search10\n",
      "element is present at 5\n"
     ]
    }
   ],
   "source": [
    "#Exercise 20\n",
    "#Write a function that takes an ordered list of numbers \n",
    "#(a list where the elements are in order from smallest to largest) \n",
    "#and another number. The function decides whether or not the given number\n",
    "#is inside the list and returns (then prints) an appropriate boolean.\n",
    "a=[]\n",
    "n=int(input(\"enter number of elements in list\"))\n",
    "for i in range(0,n):\n",
    "    element=int(input())\n",
    "    a.append(element)\n",
    "    \n",
    "first,last=0,len(a)-1\n",
    "mid=int((first+last)/2)\n",
    "#print(mid)\n",
    "num=int(input(\"Enter number to search\"))\n",
    "while(first<=last):\n",
    "    if (a[mid]<num):\n",
    "        first=mid+1\n",
    "    elif(a[mid]==num):\n",
    "        print(\"element is present at {}\".format(mid+1))\n",
    "        break\n",
    "    else:\n",
    "        last=mid-1\n",
    "    mid=int((first+last)/2)\n",
    "    if(first>last):\n",
    "        print(\"element is not present\")\n",
    "        "
   ]
  },
  {
   "cell_type": "code",
   "execution_count": null,
   "metadata": {},
   "outputs": [],
   "source": [
    "#Exercise 20\n",
    "#Write a function that takes an ordered list of numbers \n",
    "#(a list where the elements are in order from smallest to largest) \n",
    "#and another number. The function decides whether or not the given number\n",
    "#is inside the list and returns (then prints) an appropriate boolean.\n",
    "def accept_element():\n",
    "    a=[]\n",
    "    n=int(input(\"enter number of elements in list\"))\n",
    "    for i in range(0,n):\n",
    "        elementelement=int(input())\n",
    "        a.append(element)\n",
    "def binary_search():\n",
    "    first,last=0,len(a)-1\n",
    "    mid=int((first+last)/2)\n",
    "#print(mid)\n",
    "    num=int(input(\"Enter number to search\"))\n",
    "    while(first<=last):\n",
    "        if (a[mid]<num):\n",
    "            firstfirst=mid+1\n",
    "        elif(a[mid]==num):\n",
    "            print(\"element is present at {}\".format(mid+1))\n",
    "            break\n",
    "        else:\n",
    "            last=mid-1\n",
    "        mid=int((first+last)/2)\n",
    "        if(first>last):\n",
    "            print(\"element is not present\")\n",
    "accept_element()\n",
    "binary_search()   "
   ]
  },
  {
   "cell_type": "code",
   "execution_count": null,
   "metadata": {},
   "outputs": [],
   "source": []
  }
 ],
 "metadata": {
  "kernelspec": {
   "display_name": "Python 3",
   "language": "python",
   "name": "python3"
  },
  "language_info": {
   "codemirror_mode": {
    "name": "ipython",
    "version": 3
   },
   "file_extension": ".py",
   "mimetype": "text/x-python",
   "name": "python",
   "nbconvert_exporter": "python",
   "pygments_lexer": "ipython3",
   "version": "3.7.2"
  }
 },
 "nbformat": 4,
 "nbformat_minor": 2
}
